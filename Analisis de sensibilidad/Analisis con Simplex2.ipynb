{
 "cells": [
  {
   "cell_type": "code",
   "execution_count": 1,
   "metadata": {},
   "outputs": [
    {
     "name": "stdout",
     "output_type": "stream",
     "text": [
      "2020-11-18T08:15:04-05:00\n",
      "\n",
      "CPython 3.8.3\n",
      "IPython 7.16.1\n",
      "\n",
      "compiler   : MSC v.1916 64 bit (AMD64)\n",
      "system     : Windows\n",
      "release    : 10\n",
      "machine    : AMD64\n",
      "processor  : AMD64 Family 23 Model 113 Stepping 0, AuthenticAMD\n",
      "CPU cores  : 8\n",
      "interpreter: 64bit\n"
     ]
    }
   ],
   "source": [
    "%load_ext watermark\n",
    "%watermark"
   ]
  },
  {
   "cell_type": "code",
   "execution_count": 2,
   "metadata": {},
   "outputs": [],
   "source": [
    "# importación de librerias\n",
    "from sympy import * \n",
    "init_printing(use_unicode=True)"
   ]
  },
  {
   "cell_type": "code",
   "execution_count": 3,
   "metadata": {},
   "outputs": [
    {
     "data": {
      "text/latex": [
       "$\\displaystyle \\left[\\begin{matrix}5 & 0.333333333333333 & 1 & 0 & 0.166666666666667 & -0.333333333333333 & 0\\\\d + 8 & 0.833333333333333 & 0 & 1 & -0.0833333333333333 & 0.666666666666667 & 0\\\\0 & 2.33333333333333 & 0 & 0 & -0.333333333333333 & -0.333333333333333 & 1\\end{matrix}\\right]$"
      ],
      "text/plain": [
       "⎡  5    0.333333333333333  1  0   0.166666666666667   -0.333333333333333  0⎤\n",
       "⎢                                                                          ⎥\n",
       "⎢d + 8  0.833333333333333  0  1  -0.0833333333333333  0.666666666666667   0⎥\n",
       "⎢                                                                          ⎥\n",
       "⎣  0    2.33333333333333   0  0  -0.333333333333333   -0.333333333333333  1⎦"
      ]
     },
     "execution_count": 3,
     "metadata": {},
     "output_type": "execute_result"
    }
   ],
   "source": [
    "# declaración de simbolos y matrices\n",
    "d = symbols('d')\n",
    "tabla = Matrix([[5,1/3,1,0,1/6,-1/3,0],[8+d,5/6,0,1,-1/12,2/3,0],[0,7/3,0,0,-1/3,-1/3,1]])\n",
    "\n",
    "tabla"
   ]
  },
  {
   "cell_type": "code",
   "execution_count": 4,
   "metadata": {},
   "outputs": [],
   "source": [
    "# multiplicación de la primer columna con el resto de las columnas\n",
    "filas = len(tabla[0,:])\n",
    "columnas = len(tabla[:,0])\n",
    "z = Matrix([0,0,0,0,0,0])\n",
    "z= z.T\n",
    "# calculo de zj\n",
    "for i in range(1,filas):\n",
    "    z1 = tabla[0,0]*tabla[0,i] \n",
    "    z2 = tabla[1,0]*tabla[1,i]\n",
    "    z3 = tabla[2,0]*tabla[2,i]\n",
    "    z[i-1]=z1+z2+z3        "
   ]
  },
  {
   "cell_type": "code",
   "execution_count": 5,
   "metadata": {},
   "outputs": [
    {
     "data": {
      "text/latex": [
       "$\\displaystyle \\left[\\begin{matrix}- 0.833333333333333 d - 6.33333333333333 & 0 & 0 & 0.0833333333333333 d - 0.166666666666667 & - 0.666666666666667 d - 3.66666666666667 & 0\\end{matrix}\\right]$"
      ],
      "text/plain": [
       "[-0.833333333333333⋅d - 6.33333333333333  0  0  0.0833333333333333⋅d - 0.16666\n",
       "6666666667  -0.666666666666667⋅d - 3.66666666666667  0]"
      ]
     },
     "execution_count": 5,
     "metadata": {},
     "output_type": "execute_result"
    }
   ],
   "source": [
    "# calculo de cj\n",
    "cj = Matrix([2,5,8+d,0,0,0])\n",
    "cj = cj.T\n",
    "# calculo de cj - zj\n",
    "cMinusZ = cj - z\n",
    "cMinusZ"
   ]
  },
  {
   "cell_type": "code",
   "execution_count": null,
   "metadata": {},
   "outputs": [],
   "source": [
    "r1 = solve_univariate_inequality(-(19/3)-(5/6)*d<=0,d, relational=False)\n",
    "r2 = solve_univariate_inequality(-(1/6)+(1/12)*d<=0,d, relational=False)\n",
    "r3 = solve_univariate_inequality(-(11/3)-(4/6)*d<=0,d, relational=False)\n",
    "R = r1 & r2 & r3\n",
    "intervalo = 8 - R"
   ]
  },
  {
   "cell_type": "code",
   "execution_count": 6,
   "metadata": {},
   "outputs": [],
   "source": [
    "# Solución de las inecuaciones\n",
    "despejes = []\n",
    "for i in range(len(cMinusZ)):\n",
    "    despejes.append(solve_univariate_inequality(cMinusZ[i] <= 0,d))"
   ]
  },
  {
   "cell_type": "code",
   "execution_count": 7,
   "metadata": {},
   "outputs": [
    {
     "data": {
      "image/png": "[encoded data removed]",
      "text/latex": [
       "$\\displaystyle \\left[ -7.6 \\leq d \\wedge d < \\infty, \\  -\\infty < d \\wedge d < \\infty, \\  -\\infty < d \\wedge d < \\infty, \\  d \\leq 2.0 \\wedge -\\infty < d, \\  -5.5 \\leq d \\wedge d < \\infty, \\  -\\infty < d \\wedge d < \\infty\\right]$"
      ],
      "text/plain": [
       "[-7.6 ≤ d ∧ d < ∞, -∞ < d ∧ d < ∞, -∞ < d ∧ d < ∞, d ≤ 2.0 ∧ -∞ < d, -5.5 ≤ d \n",
       "∧ d < ∞, -∞ < d ∧ d < ∞]"
      ]
     },
     "execution_count": 7,
     "metadata": {},
     "output_type": "execute_result"
    }
   ],
   "source": [
    "despejes"
   ]
  },
  {
   "cell_type": "code",
   "execution_count": null,
   "metadata": {},
   "outputs": [],
   "source": []
  }
 ],
 "metadata": {
  "kernelspec": {
   "display_name": "Python 3",
   "language": "python",
   "name": "python3"
  },
  "language_info": {
   "codemirror_mode": {
    "name": "ipython",
    "version": 3
   },
   "file_extension": ".py",
   "mimetype": "text/x-python",
   "name": "python",
   "nbconvert_exporter": "python",
   "pygments_lexer": "ipython3",
   "version": "3.8.3"
  }
 },
 "nbformat": 4,
 "nbformat_minor": 4
}
