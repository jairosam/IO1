{
 "cells": [
  {
   "cell_type": "code",
   "execution_count": 1,
   "metadata": {},
   "outputs": [
    {
     "name": "stdout",
     "output_type": "stream",
     "text": [
      "2020-11-03T15:05:00-05:00\n",
      "\n",
      "CPython 3.8.3\n",
      "IPython 7.16.1\n",
      "\n",
      "compiler   : MSC v.1916 64 bit (AMD64)\n",
      "system     : Windows\n",
      "release    : 10\n",
      "machine    : AMD64\n",
      "processor  : AMD64 Family 23 Model 113 Stepping 0, AuthenticAMD\n",
      "CPU cores  : 8\n",
      "interpreter: 64bit\n"
     ]
    }
   ],
   "source": [
    "%load_ext watermark\n",
    "%watermark"
   ]
  },
  {
   "cell_type": "code",
   "execution_count": 2,
   "metadata": {},
   "outputs": [],
   "source": [
    "from sympy import * \n",
    "init_printing(use_unicode=True)"
   ]
  },
  {
   "cell_type": "code",
   "execution_count": 3,
   "metadata": {},
   "outputs": [
    {
     "data": {
      "text/latex": [
       "$\\displaystyle \\left[\\begin{matrix}d + 96\\\\40\\\\60\\end{matrix}\\right]$"
      ],
      "text/plain": [
       "⎡d + 96⎤\n",
       "⎢      ⎥\n",
       "⎢  40  ⎥\n",
       "⎢      ⎥\n",
       "⎣  60  ⎦"
      ]
     },
     "execution_count": 3,
     "metadata": {},
     "output_type": "execute_result"
    }
   ],
   "source": [
    "d = symbols('d')\n",
    "inversa = Matrix([[1/6,-1/3,0],[-1/12,2/3,0],[-1/3,-1/3,1]])\n",
    "results = Matrix([[96+d],[40],[60]])\n",
    "results"
   ]
  },
  {
   "cell_type": "code",
   "execution_count": 4,
   "metadata": {},
   "outputs": [
    {
     "data": {
      "text/latex": [
       "$\\displaystyle \\left[\\begin{matrix}0.166666666666667 & -0.333333333333333 & 0\\\\-0.0833333333333333 & 0.666666666666667 & 0\\\\-0.333333333333333 & -0.333333333333333 & 1\\end{matrix}\\right]$"
      ],
      "text/plain": [
       "⎡ 0.166666666666667   -0.333333333333333  0⎤\n",
       "⎢                                          ⎥\n",
       "⎢-0.0833333333333333  0.666666666666667   0⎥\n",
       "⎢                                          ⎥\n",
       "⎣-0.333333333333333   -0.333333333333333  1⎦"
      ]
     },
     "execution_count": 4,
     "metadata": {},
     "output_type": "execute_result"
    }
   ],
   "source": [
    "inversa"
   ]
  },
  {
   "cell_type": "code",
   "execution_count": 5,
   "metadata": {},
   "outputs": [
    {
     "data": {
      "text/latex": [
       "$\\displaystyle \\left[\\begin{matrix}0.166666666666667 d + 2.66666666666667\\\\18.6666666666667 - 0.0833333333333333 d\\\\14.6666666666667 - 0.333333333333333 d\\end{matrix}\\right]$"
      ],
      "text/plain": [
       "⎡0.166666666666667⋅d + 2.66666666666667 ⎤\n",
       "⎢                                       ⎥\n",
       "⎢18.6666666666667 - 0.0833333333333333⋅d⎥\n",
       "⎢                                       ⎥\n",
       "⎣14.6666666666667 - 0.333333333333333⋅d ⎦"
      ]
     },
     "execution_count": 5,
     "metadata": {},
     "output_type": "execute_result"
    }
   ],
   "source": [
    "ecuaciones = inversa * results\n",
    "ecuaciones"
   ]
  },
  {
   "cell_type": "code",
   "execution_count": 6,
   "metadata": {},
   "outputs": [
    {
     "name": "stdout",
     "output_type": "stream",
     "text": [
      "(-16.0 <= d) & (d < oo)\n",
      "(d <= 224.0) & (-oo < d)\n",
      "(d <= 44.0) & (-oo < d)\n"
     ]
    }
   ],
   "source": [
    "for i in range(len(ecuaciones)):\n",
    "    print(solve_univariate_inequality(ecuaciones[i] >= 0,d))"
   ]
  },
  {
   "cell_type": "code",
   "execution_count": null,
   "metadata": {},
   "outputs": [],
   "source": []
  }
 ],
 "metadata": {
  "kernelspec": {
   "display_name": "Python 3",
   "language": "python",
   "name": "python3"
  },
  "language_info": {
   "codemirror_mode": {
    "name": "ipython",
    "version": 3
   },
   "file_extension": ".py",
   "mimetype": "text/x-python",
   "name": "python",
   "nbconvert_exporter": "python",
   "pygments_lexer": "ipython3",
   "version": "3.8.3"
  }
 },
 "nbformat": 4,
 "nbformat_minor": 4
}
