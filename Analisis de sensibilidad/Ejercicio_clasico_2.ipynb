{
 "cells": [
  {
   "cell_type": "code",
   "execution_count": 3,
   "metadata": {},
   "outputs": [
    {
     "name": "stdout",
     "output_type": "stream",
     "text": [
      "The watermark extension is already loaded. To reload it, use:\n",
      "  %reload_ext watermark\n",
      "2020-12-16T13:52:29-05:00\n",
      "\n",
      "CPython 3.8.3\n",
      "IPython 7.16.1\n",
      "\n",
      "compiler   : MSC v.1916 64 bit (AMD64)\n",
      "system     : Windows\n",
      "release    : 10\n",
      "machine    : AMD64\n",
      "processor  : AMD64 Family 22 Model 0 Stepping 1, AuthenticAMD\n",
      "CPU cores  : 4\n",
      "interpreter: 64bit\n"
     ]
    }
   ],
   "source": [
    "%load_ext watermark\n",
    "%watermark"
   ]
  },
  {
   "cell_type": "markdown",
   "metadata": {},
   "source": [
    "## Ejercicio\n",
    "\n",
    "**Max** $ Z = 2X_1 + 3X_2 + 4X_3$\n",
    "\n",
    "**SA**\n",
    "\n",
    "$ X_1 + 2X_2 + X_3 \\leq 300$\n",
    "\n",
    "$ 2X_1 + X_2 + X_3 \\leq 400$\n",
    "\n",
    "$ X_1 + X_3 \\geq 120$\n",
    "\n",
    "$ X_2 + X_3 = 80$\n",
    "\n"
   ]
  },
  {
   "cell_type": "code",
   "execution_count": 40,
   "metadata": {},
   "outputs": [],
   "source": [
    "from sympy import *\n",
    "init_printing(use_unicode=True)"
   ]
  },
  {
   "cell_type": "code",
   "execution_count": 41,
   "metadata": {},
   "outputs": [],
   "source": [
    "R2 = symbols('R2')\n",
    "coeficientes_restricciones = Matrix([[1,-0.5,0,-0.5],[0,0.5,-1,0.5],[0,0.5,0,-0.5],[0,0,0,1]])\n",
    "recursos = Matrix([300,R2,120,80])"
   ]
  },
  {
   "cell_type": "code",
   "execution_count": 42,
   "metadata": {},
   "outputs": [
    {
     "data": {
      "text/latex": [
       "$\\displaystyle \\left[\\begin{matrix}260.0 - 0.5 R_{2}\\\\0.5 R_{2} - 80.0\\\\0.5 R_{2} - 40.0\\\\80\\end{matrix}\\right]$"
      ],
      "text/plain": [
       "⎡260.0 - 0.5⋅R₂⎤\n",
       "⎢              ⎥\n",
       "⎢0.5⋅R₂ - 80.0 ⎥\n",
       "⎢              ⎥\n",
       "⎢0.5⋅R₂ - 40.0 ⎥\n",
       "⎢              ⎥\n",
       "⎣      80      ⎦"
      ]
     },
     "execution_count": 42,
     "metadata": {},
     "output_type": "execute_result"
    }
   ],
   "source": [
    "solucion = coeficientes_restricciones*recursos\n",
    "solucion"
   ]
  },
  {
   "cell_type": "code",
   "execution_count": 43,
   "metadata": {},
   "outputs": [
    {
     "data": {
      "image/png": "[encoded data removed]",
      "text/latex": [
       "$\\displaystyle \\left[ 260.0 - 0.5 R_{2}, \\  0.5 R_{2} - 80.0, \\  0.5 R_{2} - 40.0, \\  80\\right]$"
      ],
      "text/plain": [
       "[260.0 - 0.5⋅R₂, 0.5⋅R₂ - 80.0, 0.5⋅R₂ - 40.0, 80]"
      ]
     },
     "execution_count": 43,
     "metadata": {},
     "output_type": "execute_result"
    }
   ],
   "source": [
    "lista = [solucion[i] for i in range(len(recursos))]\n",
    "lista"
   ]
  },
  {
   "cell_type": "code",
   "execution_count": 46,
   "metadata": {},
   "outputs": [
    {
     "name": "stdout",
     "output_type": "stream",
     "text": [
      "(R2 <= 520.0) & (-oo < R2)\n",
      "(160.0 <= R2) & (R2 < oo)\n",
      "(80.0 <= R2) & (R2 < oo)\n"
     ]
    }
   ],
   "source": [
    "for i in range(len(lista)-1):\n",
    "    print(solve_univariate_inequality(lista[i] >= 0,R2))"
   ]
  },
  {
   "cell_type": "markdown",
   "metadata": {},
   "source": [
    "$160 \\leq R2 \\leq 520$"
   ]
  },
  {
   "cell_type": "code",
   "execution_count": null,
   "metadata": {},
   "outputs": [],
   "source": []
  }
 ],
 "metadata": {
  "kernelspec": {
   "display_name": "Python 3",
   "language": "python",
   "name": "python3"
  },
  "language_info": {
   "codemirror_mode": {
    "name": "ipython",
    "version": 3
   },
   "file_extension": ".py",
   "mimetype": "text/x-python",
   "name": "python",
   "nbconvert_exporter": "python",
   "pygments_lexer": "ipython3",
   "version": "3.8.3"
  }
 },
 "nbformat": 4,
 "nbformat_minor": 4
}
