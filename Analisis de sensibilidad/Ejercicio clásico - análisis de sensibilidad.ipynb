{
 "cells": [
  {
   "cell_type": "code",
   "execution_count": 1,
   "metadata": {},
   "outputs": [
    {
     "name": "stdout",
     "output_type": "stream",
     "text": [
      "2020-12-01T19:50:19-05:00\n",
      "\n",
      "CPython 3.8.3\n",
      "IPython 7.16.1\n",
      "\n",
      "compiler   : MSC v.1916 64 bit (AMD64)\n",
      "system     : Windows\n",
      "release    : 10\n",
      "machine    : AMD64\n",
      "processor  : AMD64 Family 23 Model 113 Stepping 0, AuthenticAMD\n",
      "CPU cores  : 8\n",
      "interpreter: 64bit\n"
     ]
    }
   ],
   "source": [
    "%load_ext watermark\n",
    "%watermark"
   ]
  },
  {
   "cell_type": "markdown",
   "metadata": {},
   "source": [
    "## Ejercicio\n",
    "\n",
    "**Max** $Z=185X_1 + 200X_2 + 145X_3$\n",
    "\n",
    "**SA**\n",
    "\n",
    "$ 0.05X_1 + 0.05X_2 + 0.05X_3 \\leq 1100$\n",
    "\n",
    "$ 0.05X_1 + 0.10X_2 + 0.05X_3 \\leq 1800$\n",
    "\n",
    "$ 0.10X_1 + 0.05X_2 + 0.05X_3 \\leq 2000$"
   ]
  },
  {
   "cell_type": "code",
   "execution_count": 3,
   "metadata": {},
   "outputs": [],
   "source": [
    "from sympy import *\n",
    "init_printing(use_unicode=True)"
   ]
  },
  {
   "cell_type": "code",
   "execution_count": 82,
   "metadata": {},
   "outputs": [],
   "source": [
    "d = symbols('d')\n",
    "resultados = Matrix([8000,14000,500,4280000])\n",
    "col_s = Matrix([40,-20,-3,3400])"
   ]
  },
  {
   "cell_type": "code",
   "execution_count": 83,
   "metadata": {},
   "outputs": [
    {
     "data": {
      "text/latex": [
       "$\\displaystyle \\left[\\begin{matrix}40 d\\\\- 20 d\\\\- 3 d\\\\3400 d\\end{matrix}\\right]$"
      ],
      "text/plain": [
       "⎡ 40⋅d ⎤\n",
       "⎢      ⎥\n",
       "⎢-20⋅d ⎥\n",
       "⎢      ⎥\n",
       "⎢ -3⋅d ⎥\n",
       "⎢      ⎥\n",
       "⎣3400⋅d⎦"
      ]
     },
     "execution_count": 83,
     "metadata": {},
     "output_type": "execute_result"
    }
   ],
   "source": [
    "col_s = col_s * d\n",
    "col_s"
   ]
  },
  {
   "cell_type": "code",
   "execution_count": 84,
   "metadata": {},
   "outputs": [],
   "source": [
    "lista = [resultados[i] + col_s[i] for i in range(len(resultados))]"
   ]
  },
  {
   "cell_type": "code",
   "execution_count": 85,
   "metadata": {},
   "outputs": [
    {
     "data": {
      "image/png": "[encoded data removed]",
      "text/latex": [
       "$\\displaystyle \\left[ 40 d + 8000, \\  14000 - 20 d, \\  500 - 3 d, \\  3400 d + 4280000\\right]$"
      ],
      "text/plain": [
       "[40⋅d + 8000, 14000 - 20⋅d, 500 - 3⋅d, 3400⋅d + 4280000]"
      ]
     },
     "execution_count": 85,
     "metadata": {},
     "output_type": "execute_result"
    }
   ],
   "source": [
    "lista"
   ]
  },
  {
   "cell_type": "code",
   "execution_count": 87,
   "metadata": {},
   "outputs": [
    {
     "name": "stdout",
     "output_type": "stream",
     "text": [
      "(-200 <= d) & (d < oo)\n",
      "(d <= 700) & (-oo < d)\n",
      "(d <= 500/3) & (-oo < d)\n"
     ]
    }
   ],
   "source": [
    "for i in range(len(lista)-1):\n",
    "    print(solve_univariate_inequality(lista[i] >= 0,d))"
   ]
  },
  {
   "cell_type": "markdown",
   "metadata": {},
   "source": [
    "$-200 \\leq d \\leq 500/3$"
   ]
  },
  {
   "cell_type": "code",
   "execution_count": null,
   "metadata": {},
   "outputs": [],
   "source": []
  }
 ],
 "metadata": {
  "kernelspec": {
   "display_name": "Python 3",
   "language": "python",
   "name": "python3"
  },
  "language_info": {
   "codemirror_mode": {
    "name": "ipython",
    "version": 3
   },
   "file_extension": ".py",
   "mimetype": "text/x-python",
   "name": "python",
   "nbconvert_exporter": "python",
   "pygments_lexer": "ipython3",
   "version": "3.8.3"
  }
 },
 "nbformat": 4,
 "nbformat_minor": 4
}
